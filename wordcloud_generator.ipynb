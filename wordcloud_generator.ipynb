{
 "cells": [
  {
   "cell_type": "markdown",
   "id": "8b3e0f06",
   "metadata": {},
   "source": [
    "# CREATE WORDCLOUD FROM MULTIPLE DOCUMENTS"
   ]
  },
  {
   "cell_type": "code",
   "execution_count": 2,
   "id": "84d1fed1",
   "metadata": {
    "ExecuteTime": {
     "end_time": "2022-06-07T13:35:46.981497Z",
     "start_time": "2022-06-07T13:35:46.202482Z"
    }
   },
   "outputs": [],
   "source": [
    "import os\n",
    "import string\n",
    "import matplotlib.pyplot as plt\n",
    "from nltk.tokenize import word_tokenize\n",
    "from nltk.corpus import stopwords\n",
    "from collections import Counter\n",
    "from wordcloud import WordCloud,STOPWORDS\n",
    "import PyPDF2\n",
    "import textract"
   ]
  },
  {
   "cell_type": "markdown",
   "id": "45bc2a6d",
   "metadata": {},
   "source": [
    "# STEP 1: Read the PDF files"
   ]
  },
  {
   "cell_type": "markdown",
   "id": "9adcb147",
   "metadata": {},
   "source": [
    "## METHOD 1: Using textract"
   ]
  },
  {
   "cell_type": "markdown",
   "id": "e1fca46f",
   "metadata": {},
   "source": [
    "NOTE: textract supports reading of other documents as well like DOCX, JPG etc\n",
    "Refer: https://textract.readthedocs.io/en/stable/"
   ]
  },
  {
   "cell_type": "code",
   "execution_count": 3,
   "id": "36761ecd",
   "metadata": {
    "ExecuteTime": {
     "end_time": "2022-06-07T13:35:46.983919Z",
     "start_time": "2022-06-07T13:35:46.982422Z"
    }
   },
   "outputs": [],
   "source": [
    "def read_file_textract(filepath):\n",
    "    text = textract.process(filepath)\n",
    "    return text.decode(\"utf-8\") "
   ]
  },
  {
   "cell_type": "markdown",
   "id": "dc2209ba",
   "metadata": {},
   "source": [
    "## METHOD 2: Using PyPDF"
   ]
  },
  {
   "cell_type": "code",
   "execution_count": 4,
   "id": "7d24ded6",
   "metadata": {
    "ExecuteTime": {
     "end_time": "2022-06-07T13:35:46.986082Z",
     "start_time": "2022-06-07T13:35:46.984453Z"
    }
   },
   "outputs": [],
   "source": [
    "def read_file_pypdf(filepath):\n",
    "    pdfFileObj = open(filepath,'rb')\n",
    "    pdfReader = PyPDF2.PdfFileReader(pdfFileObj)\n",
    "    num_pages = pdfReader.numPages\n",
    "    text = \"\"\n",
    "    # Read all the pages\n",
    "    for pg in range(num_pages):\n",
    "        page = pdfReader.getPage(pg)\n",
    "        text += page.extractText()\n",
    "    return text  \n",
    "        \n",
    "        "
   ]
  },
  {
   "cell_type": "markdown",
   "id": "281ed2cc",
   "metadata": {},
   "source": [
    "## Read file using any of the pdf readers"
   ]
  },
  {
   "cell_type": "code",
   "execution_count": 5,
   "id": "8ed31b4f",
   "metadata": {
    "ExecuteTime": {
     "end_time": "2022-06-07T13:35:46.989059Z",
     "start_time": "2022-06-07T13:35:46.987057Z"
    }
   },
   "outputs": [],
   "source": [
    "def read_file(filepath, use_method = 'textract'):\n",
    "    \n",
    "    text = \"\"\n",
    "    if not os.path.isfile(filepath):\n",
    "        print(f'Invalid file:{filepath}')\n",
    "    else:\n",
    "        if use_method == 'textract':\n",
    "            return read_file_textract(filepath)\n",
    "        elif use_method == 'pypdf':\n",
    "            return read_file_pypdf(filepath)\n",
    "        else:\n",
    "            print('Invalid method to read file. Supported formats: \"textract\" or \"pypdf\".')\n",
    "    \n",
    "    return text"
   ]
  },
  {
   "cell_type": "markdown",
   "id": "64eff448",
   "metadata": {},
   "source": [
    "# STEP 2: Identify the keywords in the document"
   ]
  },
  {
   "cell_type": "code",
   "execution_count": 6,
   "id": "ef85bd53",
   "metadata": {
    "ExecuteTime": {
     "end_time": "2022-06-07T13:35:46.992899Z",
     "start_time": "2022-06-07T13:35:46.989817Z"
    }
   },
   "outputs": [],
   "source": [
    "def extract_keywords(text, ignore_words = [],\n",
    "                     min_word_length = 0,\n",
    "                     ignore_numbers = True,\n",
    "                     ignore_case = True):\n",
    "    # Remove words with special characters\n",
    "    filtered_text = ''.join(filter(lambda x:x in string.printable, text))\n",
    "    \n",
    "    # Create word tokens from the text string\n",
    "    tokens = word_tokenize(filtered_text)\n",
    "    \n",
    "    # List of punctuations to be ignored \n",
    "    punctuations = ['(',')',';',':','[',']',',','.','--','-','#','!','*','\"','%']\n",
    "    \n",
    "    # Get the stopwords list to be ignored\n",
    "    stop_words = stopwords.words('english')\n",
    "\n",
    "    # Convert ignore words from user to lower case\n",
    "    ignore_words_lower = [x.lower() for x in ignore_words]\n",
    "    \n",
    "    # Combine all the words to be ignored\n",
    "    all_ignored_words = punctuations + stop_words + ignore_words_lower\n",
    "    \n",
    "    # Get the keywords list\n",
    "    keywords = [word for word in tokens \\\n",
    "                    if  word.lower() not in all_ignored_words\n",
    "                    and len(word) >= min_word_length]    \n",
    "\n",
    "    # Remove keywords with only digits\n",
    "    if ignore_numbers:\n",
    "        keywords = [keyword for keyword in keywords if not keyword.isdigit()]\n",
    "\n",
    "    # Return all keywords in lower case if case is not of significance\n",
    "    if ignore_case:\n",
    "        keywords = [keyword.lower() for keyword in keywords]\n",
    "    \n",
    "    return keywords\n",
    "    \n",
    "    "
   ]
  },
  {
   "cell_type": "code",
   "execution_count": null,
   "id": "981e9100",
   "metadata": {},
   "outputs": [],
   "source": []
  },
  {
   "cell_type": "markdown",
   "id": "c4c94600",
   "metadata": {},
   "source": [
    "# STEP 3: Create the wordcloud"
   ]
  },
  {
   "cell_type": "code",
   "execution_count": 7,
   "id": "755967e1",
   "metadata": {
    "ExecuteTime": {
     "end_time": "2022-06-07T13:35:46.996357Z",
     "start_time": "2022-06-07T13:35:46.993485Z"
    }
   },
   "outputs": [],
   "source": [
    "def create_word_cloud(keywords, maximum_words = 100, bg = 'white', cmap='Dark2',\n",
    "                     maximum_font_size = 256, width = 3000, height = 2000,\n",
    "                     random_state = 42, fig_w = 15, fig_h = 10, output_filepath = None):\n",
    "    \n",
    "    # Convert keywords to dictionary with values and its occurences\n",
    "    word_could_dict=Counter(keywords)\n",
    "\n",
    "    wordcloud = WordCloud(background_color=bg, max_words=maximum_words, colormap=cmap, \n",
    "                          stopwords=STOPWORDS, max_font_size=maximum_font_size,\n",
    "                          random_state=random_state, \n",
    "                          width=width, height=height).generate_from_frequencies(word_could_dict)\n",
    "    \n",
    "    plt.figure(figsize=(fig_w,fig_h))\n",
    "    plt.imshow(wordcloud, interpolation=\"bilinear\")\n",
    "    plt.axis(\"off\")\n",
    "    if output_filepath:\n",
    "        plt.savefig(output_filepath, bbox_inches='tight')\n",
    "    plt.show()\n",
    "    plt.close()"
   ]
  },
  {
   "cell_type": "markdown",
   "id": "9a553ab2",
   "metadata": {},
   "source": [
    "# PUTTING IT TOGETHER"
   ]
  },
  {
   "cell_type": "markdown",
   "id": "a5468ce5",
   "metadata": {},
   "source": [
    "## WORDCLOUD FOR A SINGLE FILE"
   ]
  },
  {
   "cell_type": "code",
   "execution_count": 17,
   "id": "34bd7dcb",
   "metadata": {
    "ExecuteTime": {
     "end_time": "2022-06-07T13:35:52.088501Z",
     "start_time": "2022-06-07T13:35:46.997133Z"
    },
    "scrolled": false
   },
   "outputs": [
    {
     "ename": "NameError",
     "evalue": "name 'file_text' is not defined",
     "output_type": "error",
     "traceback": [
      "\u001b[1;31m---------------------------------------------------------------------------\u001b[0m",
      "\u001b[1;31mNameError\u001b[0m                                 Traceback (most recent call last)",
      "\u001b[1;32m<ipython-input-17-3f83a67f1a59>\u001b[0m in \u001b[0;36m<module>\u001b[1;34m\u001b[0m\n\u001b[0;32m      2\u001b[0m \u001b[0mfilepath\u001b[0m \u001b[1;33m=\u001b[0m \u001b[0mos\u001b[0m\u001b[1;33m.\u001b[0m\u001b[0mpath\u001b[0m\u001b[1;33m.\u001b[0m\u001b[0mjoin\u001b[0m\u001b[1;33m(\u001b[0m\u001b[1;34m'sample_files'\u001b[0m\u001b[1;33m,\u001b[0m \u001b[1;34m'AI_Blockchain_Survey_2022.pdf'\u001b[0m\u001b[1;33m)\u001b[0m\u001b[1;33m\u001b[0m\u001b[1;33m\u001b[0m\u001b[0m\n\u001b[0;32m      3\u001b[0m \u001b[1;31m#file_text = read_file(filepath)\u001b[0m\u001b[1;33m\u001b[0m\u001b[1;33m\u001b[0m\u001b[1;33m\u001b[0m\u001b[0m\n\u001b[1;32m----> 4\u001b[1;33m \u001b[0mprint\u001b[0m\u001b[1;33m(\u001b[0m\u001b[0mfile_text\u001b[0m\u001b[1;33m)\u001b[0m\u001b[1;33m\u001b[0m\u001b[1;33m\u001b[0m\u001b[0m\n\u001b[0m\u001b[0;32m      5\u001b[0m \u001b[0moutputfile\u001b[0m \u001b[1;33m=\u001b[0m \u001b[1;34m'outputfile.jpg'\u001b[0m\u001b[1;33m\u001b[0m\u001b[1;33m\u001b[0m\u001b[0m\n\u001b[0;32m      6\u001b[0m \u001b[1;31m#keywords = extract_keywords(file_text,min_word_length = 3)\u001b[0m\u001b[1;33m\u001b[0m\u001b[1;33m\u001b[0m\u001b[1;33m\u001b[0m\u001b[0m\n",
      "\u001b[1;31mNameError\u001b[0m: name 'file_text' is not defined"
     ]
    }
   ],
   "source": [
    "import os \n",
    "filepath = os.path.join('sample_files', 'AI_Blockchain_Survey_2022.pdf')\n",
    "file_text = read_file(filepath, pypdf)\n",
    "print(file_text)\n",
    "outputfile = 'outputfile.jpg'\n",
    "#keywords = extract_keywords(file_text,min_word_length = 3)\n",
    "#create_word_cloud(keywords, maximum_words=100, maximum_font_size = 400, output_filepath = outputfile)\n",
    "            "
   ]
  },
  {
   "cell_type": "markdown",
   "id": "cd60356e",
   "metadata": {},
   "source": [
    "## WORDCLOUD FOR ALL FILES IN A FOLDER"
   ]
  },
  {
   "cell_type": "code",
   "execution_count": 20,
   "id": "4aee35c5",
   "metadata": {
    "ExecuteTime": {
     "end_time": "2022-06-07T13:35:55.577728Z",
     "start_time": "2022-06-07T13:35:52.089222Z"
    }
   },
   "outputs": [
    {
     "name": "stdout",
     "output_type": "stream",
     "text": [
      "Parsing file: 3D Reconstruction of Non-Cooperative Resident Space Object using Instant NeRF and D-NeRF.pdf\n",
      "ERROR!!! Unable to parse file: 3D Reconstruction of Non-Cooperative Resident Space Object using Instant NeRF and D-NeRF.pdf. Ignoring file!!\n",
      "Parsing file: 3UCubed The IMAP Student Collaboration CubeSat Project.pdf\n",
      "ERROR!!! Unable to parse file: 3UCubed The IMAP Student Collaboration CubeSat Project.pdf. Ignoring file!!\n",
      "Parsing file: A Comparison of Deep Reinforcement Learning Algorithms for Earth-Observing Satellite Scheduling.pdf\n",
      "ERROR!!! Unable to parse file: A Comparison of Deep Reinforcement Learning Algorithms for Earth-Observing Satellite Scheduling.pdf. Ignoring file!!\n",
      "Parsing file: A hybrid stochastic-deterministic integrator for spacecraft dynamics with uncertainty.pdf\n",
      "ERROR!!! Unable to parse file: A hybrid stochastic-deterministic integrator for spacecraft dynamics with uncertainty.pdf. Ignoring file!!\n",
      "Parsing file: A Monte Carlo Analysis of Contingency Optimal Guidance for Mars Entry.pdf\n",
      "ERROR!!! Unable to parse file: A Monte Carlo Analysis of Contingency Optimal Guidance for Mars Entry.pdf. Ignoring file!!\n",
      "Parsing file: A novel fast-paced orbit determination method for the Cnes catalogue.pdf\n",
      "ERROR!!! Unable to parse file: A novel fast-paced orbit determination method for the Cnes catalogue.pdf. Ignoring file!!\n",
      "Parsing file: A Novel Formulation for the Multi-Stage Satellite Constellation Reconfiguration Problem Initial Results.pdf\n",
      "ERROR!!! Unable to parse file: A Novel Formulation for the Multi-Stage Satellite Constellation Reconfiguration Problem Initial Results.pdf. Ignoring file!!\n",
      "Parsing file: Absolute and Autonomous Navigation for Distributed Space Systems with Relative Measurements.pdf\n",
      "ERROR!!! Unable to parse file: Absolute and Autonomous Navigation for Distributed Space Systems with Relative Measurements.pdf. Ignoring file!!\n",
      "Parsing file: Advanced ensemble modeling method for space object state prediction accounting for uncertainty in atmospheric density.pdf\n",
      "ERROR!!! Unable to parse file: Advanced ensemble modeling method for space object state prediction accounting for uncertainty in atmospheric density.pdf. Ignoring file!!\n",
      "Parsing file: An approach to optimal orbit design with a novel technique for the revisit and coverage estimation for a Very Low Earth Orbit Earth Observation.pdf\n",
      "ERROR!!! Unable to parse file: An approach to optimal orbit design with a novel technique for the revisit and coverage estimation for a Very Low Earth Orbit Earth Observation.pdf. Ignoring file!!\n",
      "Parsing file: Artificial Neural Network based Atmospheric Density Model for Aerobraking Trajectory Design.pdf\n",
      "ERROR!!! Unable to parse file: Artificial Neural Network based Atmospheric Density Model for Aerobraking Trajectory Design.pdf. Ignoring file!!\n",
      "Parsing file: Assessment of Aerogravity Assist at Venus Using Blunt-Body Vehicles.pdf\n",
      "ERROR!!! Unable to parse file: Assessment of Aerogravity Assist at Venus Using Blunt-Body Vehicles.pdf. Ignoring file!!\n",
      "Parsing file: Autonomous Rendezvous with Non-Cooperative Target Objects with Swarm Chasers and Observers.pdf\n",
      "ERROR!!! Unable to parse file: Autonomous Rendezvous with Non-Cooperative Target Objects with Swarm Chasers and Observers.pdf. Ignoring file!!\n",
      "Parsing file: Blue Ghost Lunar Lander Orbital Maneuver Statistical Analysis.pdf\n",
      "ERROR!!! Unable to parse file: Blue Ghost Lunar Lander Orbital Maneuver Statistical Analysis.pdf. Ignoring file!!\n",
      "Parsing file: Center Of Gravity Estimation For Powered Flight Attitude Control.pdf\n",
      "ERROR!!! Unable to parse file: Center Of Gravity Estimation For Powered Flight Attitude Control.pdf. Ignoring file!!\n",
      "Parsing file: Combined Convex and Direct Shooting Optimization for Low-Thrust Trajectory Generation With Analytical Thrust Profile.pdf\n",
      "ERROR!!! Unable to parse file: Combined Convex and Direct Shooting Optimization for Low-Thrust Trajectory Generation With Analytical Thrust Profile.pdf. Ignoring file!!\n",
      "Parsing file: Conceptual Design for Returning KITSAT-1.pdf\n",
      "ERROR!!! Unable to parse file: Conceptual Design for Returning KITSAT-1.pdf. Ignoring file!!\n",
      "Parsing file: Considerations for Space Weather Impacts on Spacecraft.pdf\n",
      "ERROR!!! Unable to parse file: Considerations for Space Weather Impacts on Spacecraft.pdf. Ignoring file!!\n",
      "Parsing file: Constrained Attitude Control for Small Satellites with a Settling-Time Requirement.pdf\n",
      "ERROR!!! Unable to parse file: Constrained Attitude Control for Small Satellites with a Settling-Time Requirement.pdf. Ignoring file!!\n",
      "Parsing file: Covariance Based Track Association with Modified Equinoctial Elements.pdf\n",
      "ERROR!!! Unable to parse file: Covariance Based Track Association with Modified Equinoctial Elements.pdf. Ignoring file!!\n",
      "Parsing file: Design and Validation of Spacecraft Planning Flight Software.pdf\n",
      "ERROR!!! Unable to parse file: Design and Validation of Spacecraft Planning Flight Software.pdf. Ignoring file!!\n",
      "Parsing file: Design of a reaction wheel system for CubeSat CHASQUI II Attitude Control.pdf\n",
      "ERROR!!! Unable to parse file: Design of a reaction wheel system for CubeSat CHASQUI II Attitude Control.pdf. Ignoring file!!\n",
      "Parsing file: Design of Initial Guess Low Thrust Trajectories Using Clohessy-Wiltshire Equations.pdf\n",
      "ERROR!!! Unable to parse file: Design of Initial Guess Low Thrust Trajectories Using Clohessy-Wiltshire Equations.pdf. Ignoring file!!\n",
      "Parsing file: Development of a simulator for coverage planning of a 6G IoT constellation.pdf\n",
      "ERROR!!! Unable to parse file: Development of a simulator for coverage planning of a 6G IoT constellation.pdf. Ignoring file!!\n",
      "Parsing file: Distributed Swarm Optimization for the Solution of Boundary Value Problems in Astrodynamics.pdf\n",
      "ERROR!!! Unable to parse file: Distributed Swarm Optimization for the Solution of Boundary Value Problems in Astrodynamics.pdf. Ignoring file!!\n",
      "Parsing file: Double Asteroid Redirection Test (DART) Final Mission Design and Flight Path Control.pdf\n",
      "ERROR!!! Unable to parse file: Double Asteroid Redirection Test (DART) Final Mission Design and Flight Path Control.pdf. Ignoring file!!\n",
      "Parsing file: Double Asteroid Redirection Test (DART) Mission Processing, Analysis, and Modeling of the Reaction Control System Thruster Delta-V For Orbit Determination.pdf\n",
      "ERROR!!! Unable to parse file: Double Asteroid Redirection Test (DART) Mission Processing, Analysis, and Modeling of the Reaction Control System Thruster Delta-V For Orbit Determination.pdf. Ignoring file!!\n",
      "Parsing file: Dynamical characterization of endogenous conjunctions within the Starlink constellation.pdf\n",
      "ERROR!!! Unable to parse file: Dynamical characterization of endogenous conjunctions within the Starlink constellation.pdf. Ignoring file!!\n",
      "Parsing file: Enabling Machine Learning Inference at the Edge.pdf\n",
      "ERROR!!! Unable to parse file: Enabling Machine Learning Inference at the Edge.pdf. Ignoring file!!\n",
      "Parsing file: Existence of Infinitely Many Optimal Equal-Delta-v Trajectories in Two-Body Dynamics.pdf\n",
      "ERROR!!! Unable to parse file: Existence of Infinitely Many Optimal Equal-Delta-v Trajectories in Two-Body Dynamics.pdf. Ignoring file!!\n",
      "Parsing file: Feasibility study of a magnetic system for proximity awareness in formation flying applications.pdf\n",
      "ERROR!!! Unable to parse file: Feasibility study of a magnetic system for proximity awareness in formation flying applications.pdf. Ignoring file!!\n",
      "Parsing file: GPS-Based Precise Orbit Determination of LEO Satellites Using Space-based Double-Differenced Observations.pdf\n",
      "ERROR!!! Unable to parse file: GPS-Based Precise Orbit Determination of LEO Satellites Using Space-based Double-Differenced Observations.pdf. Ignoring file!!\n",
      "Parsing file: Guidance Templates for Spacecraft Attitude Motion Planning.pdf\n",
      "ERROR!!! Unable to parse file: Guidance Templates for Spacecraft Attitude Motion Planning.pdf. Ignoring file!!\n",
      "Parsing file: How Space Weather affects Satellite Operations and Two Plans to improve the Process.pdf\n",
      "ERROR!!! Unable to parse file: How Space Weather affects Satellite Operations and Two Plans to improve the Process.pdf. Ignoring file!!\n",
      "Parsing file: HYBRID FEEDBACK CONTROL STRATEGIES FOR AEROCAPTURE.pdf\n",
      "ERROR!!! Unable to parse file: HYBRID FEEDBACK CONTROL STRATEGIES FOR AEROCAPTURE.pdf. Ignoring file!!\n",
      "Parsing file: Hybrid Nonlinear Semi-Analytical Uncertainty Propagation for Long-Term Encounter Analysis.pdf\n",
      "ERROR!!! Unable to parse file: Hybrid Nonlinear Semi-Analytical Uncertainty Propagation for Long-Term Encounter Analysis.pdf. Ignoring file!!\n",
      "Parsing file: Leveraging Hamiltonian Structure for Accurate Uncertainty Propagation.pdf\n",
      "ERROR!!! Unable to parse file: Leveraging Hamiltonian Structure for Accurate Uncertainty Propagation.pdf. Ignoring file!!\n",
      "Parsing file: Low-thrust Collision Avoidance Design for Leo Missions With Return to Nominal Orbit.pdf\n",
      "ERROR!!! Unable to parse file: Low-thrust Collision Avoidance Design for Leo Missions With Return to Nominal Orbit.pdf. Ignoring file!!\n",
      "Parsing file: Lunar Photon Flight Dynamics Operations for the CAPSTONE Mission.pdf\n",
      "ERROR!!! Unable to parse file: Lunar Photon Flight Dynamics Operations for the CAPSTONE Mission.pdf. Ignoring file!!\n",
      "Parsing file: Monte Carlo methods to model the evolution of the LEO population.pdf\n",
      "ERROR!!! Unable to parse file: Monte Carlo methods to model the evolution of the LEO population.pdf. Ignoring file!!\n",
      "Parsing file: Multi-CubeSat Formation Design for a High-Precision Timing and Ranging Experiment in LEO.pdf\n",
      "ERROR!!! Unable to parse file: Multi-CubeSat Formation Design for a High-Precision Timing and Ranging Experiment in LEO.pdf. Ignoring file!!\n",
      "Parsing file: Multi-Fidelity Hamiltonian Monte Carlo for Space Object Tracking with Sparse Data.pdf\n",
      "ERROR!!! Unable to parse file: Multi-Fidelity Hamiltonian Monte Carlo for Space Object Tracking with Sparse Data.pdf. Ignoring file!!\n",
      "Parsing file: Multiple Space Debris Removal Optimal Trajectory Design Using Random Key Encoding Scheme.pdf\n",
      "ERROR!!! Unable to parse file: Multiple Space Debris Removal Optimal Trajectory Design Using Random Key Encoding Scheme.pdf. Ignoring file!!\n",
      "Parsing file: No Initial Guess Required Rapidly Computing the Feasible Set of Fuel-Optimal Electric Propulsion Trajectories.pdf\n",
      "ERROR!!! Unable to parse file: No Initial Guess Required Rapidly Computing the Feasible Set of Fuel-Optimal Electric Propulsion Trajectories.pdf. Ignoring file!!\n",
      "Parsing file: Nonlinear Adaptive Angle-Only Relative Navigation on Perturbed Eccentric Orbits.pdf\n",
      "ERROR!!! Unable to parse file: Nonlinear Adaptive Angle-Only Relative Navigation on Perturbed Eccentric Orbits.pdf. Ignoring file!!\n",
      "Parsing file: Nonlinear Kalman Filter Based On Central Differences Applied To Orbit Determination Problem.pdf\n",
      "ERROR!!! Unable to parse file: Nonlinear Kalman Filter Based On Central Differences Applied To Orbit Determination Problem.pdf. Ignoring file!!\n",
      "Parsing file: On the Performance of Different Smoothing Methods for Indirect Low-Thrust Trajectory Optimization.pdf\n",
      "ERROR!!! Unable to parse file: On the Performance of Different Smoothing Methods for Indirect Low-Thrust Trajectory Optimization.pdf. Ignoring file!!\n",
      "Parsing file: Onboard Phase Center Calibration of GNSS Antenna Using Relative Position Sensor in Formation Flying.pdf\n",
      "ERROR!!! Unable to parse file: Onboard Phase Center Calibration of GNSS Antenna Using Relative Position Sensor in Formation Flying.pdf. Ignoring file!!\n",
      "Parsing file: Optimal Range Capabilities for Low-Lift-to-Drag Ratio Entry Vehicles.pdf\n",
      "ERROR!!! Unable to parse file: Optimal Range Capabilities for Low-Lift-to-Drag Ratio Entry Vehicles.pdf. Ignoring file!!\n",
      "Parsing file: Optimization of the Two Impulse Orbit Transfer.pdf\n",
      "ERROR!!! Unable to parse file: Optimization of the Two Impulse Orbit Transfer.pdf. Ignoring file!!\n",
      "Parsing file: Orbit and Attitude Coupling in the Full Higher-Fidelity Ephemeris Model within the context of the Geometric Mechanics Framework.pdf\n",
      "ERROR!!! Unable to parse file: Orbit and Attitude Coupling in the Full Higher-Fidelity Ephemeris Model within the context of the Geometric Mechanics Framework.pdf. Ignoring file!!\n",
      "Parsing file: Origami  Application to Space Mirror Reflectors.pdf\n",
      "ERROR!!! Unable to parse file: Origami  Application to Space Mirror Reflectors.pdf. Ignoring file!!\n",
      "Parsing file: Overview of the NASA Spacecraft Trade Modeling System (NSTRDMS), A Rapid Mission Analysis Tool.pdf\n",
      "ERROR!!! Unable to parse file: Overview of the NASA Spacecraft Trade Modeling System (NSTRDMS), A Rapid Mission Analysis Tool.pdf. Ignoring file!!\n",
      "Parsing file: Periodic Relative Natural Motion in the Circular Restricted Three-Body Problem.pdf\n",
      "ERROR!!! Unable to parse file: Periodic Relative Natural Motion in the Circular Restricted Three-Body Problem.pdf. Ignoring file!!\n",
      "Parsing file: Preliminary Study Of The Earth Perturbation Over Low-Thrust Trajectories.pdf\n",
      "ERROR!!! Unable to parse file: Preliminary Study Of The Earth Perturbation Over Low-Thrust Trajectories.pdf. Ignoring file!!\n",
      "Parsing file: Restricting Spacecraft Uncertainty Evolution With Modified Hamiltonian Constraints In Non-Conservative Systems.pdf\n",
      "ERROR!!! Unable to parse file: Restricting Spacecraft Uncertainty Evolution With Modified Hamiltonian Constraints In Non-Conservative Systems.pdf. Ignoring file!!\n",
      "Parsing file: Slew Maneuver Simulation and Stabilization Settling Time Analysis for the VISORS Space Telescope Mission.pdf\n",
      "ERROR!!! Unable to parse file: Slew Maneuver Simulation and Stabilization Settling Time Analysis for the VISORS Space Telescope Mission.pdf. Ignoring file!!\n",
      "Parsing file: SPACE OCCUPANCY CONJUNCTION FILTER.pdf\n",
      "ERROR!!! Unable to parse file: SPACE OCCUPANCY CONJUNCTION FILTER.pdf. Ignoring file!!\n",
      "Parsing file: State Transition Tensors for Passive Angles-Only Relative Orbit Determination.pdf\n",
      "ERROR!!! Unable to parse file: State Transition Tensors for Passive Angles-Only Relative Orbit Determination.pdf. Ignoring file!!\n",
      "Parsing file: State-dependent trust region for successive convex optimization of spacecraft trajectories.pdf\n",
      "ERROR!!! Unable to parse file: State-dependent trust region for successive convex optimization of spacecraft trajectories.pdf. Ignoring file!!\n",
      "Parsing file: Statistical Analysis of Optimal Stationkeeping Location and Coast Duration using Stretching Directions.pdf\n",
      "ERROR!!! Unable to parse file: Statistical Analysis of Optimal Stationkeeping Location and Coast Duration using Stretching Directions.pdf. Ignoring file!!\n",
      "Parsing file: The Effects Of Raising And Decay In Orbital Capacity Models.pdf\n",
      "ERROR!!! Unable to parse file: The Effects Of Raising And Decay In Orbital Capacity Models.pdf. Ignoring file!!\n",
      "Parsing file: THE INITIAL ORBIT DETERMINATION (IOD) PROBLEM WITH RANGE, RANGE-RATE AND ANGLES.pdf\n",
      "ERROR!!! Unable to parse file: THE INITIAL ORBIT DETERMINATION (IOD) PROBLEM WITH RANGE, RANGE-RATE AND ANGLES.pdf. Ignoring file!!\n",
      "Parsing file: Towards Modeling of RCS Plume Impingement in Space Environments using OpenFOAM.pdf\n",
      "ERROR!!! Unable to parse file: Towards Modeling of RCS Plume Impingement in Space Environments using OpenFOAM.pdf. Ignoring file!!\n",
      "Parsing file: Trajectory Reverse Engineering A General Strategy for Transferring Trajectories Between Flight Mechanics Tools.pdf\n",
      "ERROR!!! Unable to parse file: Trajectory Reverse Engineering A General Strategy for Transferring Trajectories Between Flight Mechanics Tools.pdf. Ignoring file!!\n",
      "Completed reading all pdf files in folder:C:\\Users\\Andrew\\Documents\\DSO_work\\AAS papers\\readings\n"
     ]
    },
    {
     "ename": "ValueError",
     "evalue": "We need at least 1 word to plot a word cloud, got 0.",
     "output_type": "error",
     "traceback": [
      "\u001b[1;31m---------------------------------------------------------------------------\u001b[0m",
      "\u001b[1;31mValueError\u001b[0m                                Traceback (most recent call last)",
      "\u001b[1;32m<ipython-input-20-36400a222b22>\u001b[0m in \u001b[0;36m<module>\u001b[1;34m\u001b[0m\n\u001b[0;32m     17\u001b[0m \u001b[0mprint\u001b[0m\u001b[1;33m(\u001b[0m\u001b[1;34mf'Completed reading all pdf files in folder:{docs_path}'\u001b[0m\u001b[1;33m)\u001b[0m\u001b[1;33m\u001b[0m\u001b[1;33m\u001b[0m\u001b[0m\n\u001b[0;32m     18\u001b[0m \u001b[1;33m\u001b[0m\u001b[0m\n\u001b[1;32m---> 19\u001b[1;33m \u001b[0mcreate_word_cloud\u001b[0m\u001b[1;33m(\u001b[0m\u001b[0mall_keywords\u001b[0m\u001b[1;33m,\u001b[0m \u001b[0mbg\u001b[0m \u001b[1;33m=\u001b[0m \u001b[1;34m'black'\u001b[0m\u001b[1;33m,\u001b[0m \u001b[0mcmap\u001b[0m \u001b[1;33m=\u001b[0m \u001b[1;34m'Set2'\u001b[0m\u001b[1;33m,\u001b[0m\u001b[0mrandom_state\u001b[0m \u001b[1;33m=\u001b[0m \u001b[1;36m100\u001b[0m\u001b[1;33m,\u001b[0m \u001b[0mwidth\u001b[0m \u001b[1;33m=\u001b[0m \u001b[1;36m1000\u001b[0m\u001b[1;33m,\u001b[0m \u001b[0mheight\u001b[0m \u001b[1;33m=\u001b[0m \u001b[1;36m1000\u001b[0m\u001b[1;33m)\u001b[0m\u001b[1;33m\u001b[0m\u001b[1;33m\u001b[0m\u001b[0m\n\u001b[0m",
      "\u001b[1;32m<ipython-input-16-ad48751b8b1b>\u001b[0m in \u001b[0;36mcreate_word_cloud\u001b[1;34m(keywords, maximum_words, bg, cmap, maximum_font_size, width, height, random_state, fig_w, fig_h, output_filepath)\u001b[0m\n\u001b[0;32m      6\u001b[0m     \u001b[0mword_could_dict\u001b[0m\u001b[1;33m=\u001b[0m\u001b[0mCounter\u001b[0m\u001b[1;33m(\u001b[0m\u001b[0mkeywords\u001b[0m\u001b[1;33m)\u001b[0m\u001b[1;33m\u001b[0m\u001b[1;33m\u001b[0m\u001b[0m\n\u001b[0;32m      7\u001b[0m \u001b[1;33m\u001b[0m\u001b[0m\n\u001b[1;32m----> 8\u001b[1;33m     wordcloud = WordCloud(background_color=bg, max_words=maximum_words, colormap=cmap, \n\u001b[0m\u001b[0;32m      9\u001b[0m                           \u001b[0mstopwords\u001b[0m\u001b[1;33m=\u001b[0m\u001b[0mSTOPWORDS\u001b[0m\u001b[1;33m,\u001b[0m \u001b[0mmax_font_size\u001b[0m\u001b[1;33m=\u001b[0m\u001b[0mmaximum_font_size\u001b[0m\u001b[1;33m,\u001b[0m\u001b[1;33m\u001b[0m\u001b[1;33m\u001b[0m\u001b[0m\n\u001b[0;32m     10\u001b[0m                           \u001b[0mrandom_state\u001b[0m\u001b[1;33m=\u001b[0m\u001b[0mrandom_state\u001b[0m\u001b[1;33m,\u001b[0m\u001b[1;33m\u001b[0m\u001b[1;33m\u001b[0m\u001b[0m\n",
      "\u001b[1;32mc:\\Users\\Andrew\\anaconda3\\envs\\test_env\\lib\\site-packages\\wordcloud\\wordcloud.py\u001b[0m in \u001b[0;36mgenerate_from_frequencies\u001b[1;34m(self, frequencies, max_font_size)\u001b[0m\n\u001b[0;32m    408\u001b[0m         \u001b[0mfrequencies\u001b[0m \u001b[1;33m=\u001b[0m \u001b[0msorted\u001b[0m\u001b[1;33m(\u001b[0m\u001b[0mfrequencies\u001b[0m\u001b[1;33m.\u001b[0m\u001b[0mitems\u001b[0m\u001b[1;33m(\u001b[0m\u001b[1;33m)\u001b[0m\u001b[1;33m,\u001b[0m \u001b[0mkey\u001b[0m\u001b[1;33m=\u001b[0m\u001b[0mitemgetter\u001b[0m\u001b[1;33m(\u001b[0m\u001b[1;36m1\u001b[0m\u001b[1;33m)\u001b[0m\u001b[1;33m,\u001b[0m \u001b[0mreverse\u001b[0m\u001b[1;33m=\u001b[0m\u001b[1;32mTrue\u001b[0m\u001b[1;33m)\u001b[0m\u001b[1;33m\u001b[0m\u001b[1;33m\u001b[0m\u001b[0m\n\u001b[0;32m    409\u001b[0m         \u001b[1;32mif\u001b[0m \u001b[0mlen\u001b[0m\u001b[1;33m(\u001b[0m\u001b[0mfrequencies\u001b[0m\u001b[1;33m)\u001b[0m \u001b[1;33m<=\u001b[0m \u001b[1;36m0\u001b[0m\u001b[1;33m:\u001b[0m\u001b[1;33m\u001b[0m\u001b[1;33m\u001b[0m\u001b[0m\n\u001b[1;32m--> 410\u001b[1;33m             raise ValueError(\"We need at least 1 word to plot a word cloud, \"\n\u001b[0m\u001b[0;32m    411\u001b[0m                              \"got %d.\" % len(frequencies))\n\u001b[0;32m    412\u001b[0m         \u001b[0mfrequencies\u001b[0m \u001b[1;33m=\u001b[0m \u001b[0mfrequencies\u001b[0m\u001b[1;33m[\u001b[0m\u001b[1;33m:\u001b[0m\u001b[0mself\u001b[0m\u001b[1;33m.\u001b[0m\u001b[0mmax_words\u001b[0m\u001b[1;33m]\u001b[0m\u001b[1;33m\u001b[0m\u001b[1;33m\u001b[0m\u001b[0m\n",
      "\u001b[1;31mValueError\u001b[0m: We need at least 1 word to plot a word cloud, got 0."
     ]
    }
   ],
   "source": [
    "docs_path = 'C:\\\\Users\\\\Andrew\\\\Documents\\\\DSO_work\\\\AAS papers\\\\readings'\n",
    "ignore_words = ['Fig','like','e.g.','i.e.','one']\n",
    "all_keywords = []\n",
    "\n",
    "for filename in os.listdir(docs_path):\n",
    "    filepath = os.path.join(docs_path, filename)\n",
    "    if os.path.isfile(filepath) and filename.endswith('.pdf'):\n",
    "        print(f'Parsing file: {filename}')\n",
    "        try:\n",
    "            file_text = read_file(filepath)\n",
    "            keywords = extract_keywords(file_text,min_word_length = 3, ignore_words = ignore_words)\n",
    "            all_keywords.extend(keywords)\n",
    "        except:\n",
    "            print(f'ERROR!!! Unable to parse file: {filename}. Ignoring file!!')\n",
    "        \n",
    "\n",
    "print(f'Completed reading all pdf files in folder:{docs_path}')\n",
    "\n",
    "create_word_cloud(all_keywords, bg = 'black', cmap = 'Set2',random_state = 100, width = 1000, height = 1000)"
   ]
  },
  {
   "cell_type": "code",
   "execution_count": null,
   "id": "32f8c035",
   "metadata": {},
   "outputs": [],
   "source": []
  },
  {
   "cell_type": "code",
   "execution_count": null,
   "id": "6b2fbada",
   "metadata": {},
   "outputs": [],
   "source": []
  },
  {
   "cell_type": "markdown",
   "id": "ecdab356",
   "metadata": {},
   "source": [
    "# ADDON: LIST OF TOP KEYWORDS AS DATAFRAME"
   ]
  },
  {
   "cell_type": "code",
   "execution_count": 10,
   "id": "6f40c1ac",
   "metadata": {
    "ExecuteTime": {
     "end_time": "2022-06-07T13:35:55.705997Z",
     "start_time": "2022-06-07T13:35:55.578474Z"
    }
   },
   "outputs": [
    {
     "data": {
      "text/html": [
       "<div>\n",
       "<style scoped>\n",
       "    .dataframe tbody tr th:only-of-type {\n",
       "        vertical-align: middle;\n",
       "    }\n",
       "\n",
       "    .dataframe tbody tr th {\n",
       "        vertical-align: top;\n",
       "    }\n",
       "\n",
       "    .dataframe thead th {\n",
       "        text-align: right;\n",
       "    }\n",
       "</style>\n",
       "<table border=\"1\" class=\"dataframe\">\n",
       "  <thead>\n",
       "    <tr style=\"text-align: right;\">\n",
       "      <th></th>\n",
       "      <th>keyword</th>\n",
       "      <th>count</th>\n",
       "      <th>word_len</th>\n",
       "    </tr>\n",
       "  </thead>\n",
       "  <tbody>\n",
       "  </tbody>\n",
       "</table>\n",
       "</div>"
      ],
      "text/plain": [
       "Empty DataFrame\n",
       "Columns: [keyword, count, word_len]\n",
       "Index: []"
      ]
     },
     "execution_count": 10,
     "metadata": {},
     "output_type": "execute_result"
    }
   ],
   "source": [
    "import pandas as pd \n",
    "pd.set_option(\"max_rows\", None)\n",
    "distinct_keywords_df = pd.DataFrame(all_keywords,columns=['keywords']).value_counts().rename_axis('keyword').reset_index(name='count')\n",
    "distinct_keywords_df['word_len'] = distinct_keywords_df['keyword'].apply(lambda x: len(x))\n",
    "distinct_keywords_df.head(50)\n",
    "\n",
    "\n"
   ]
  },
  {
   "cell_type": "code",
   "execution_count": null,
   "id": "89f9c9a3",
   "metadata": {},
   "outputs": [],
   "source": []
  }
 ],
 "metadata": {
  "kernelspec": {
   "display_name": "test_env",
   "language": "python",
   "name": "python3"
  },
  "language_info": {
   "codemirror_mode": {
    "name": "ipython",
    "version": 3
   },
   "file_extension": ".py",
   "mimetype": "text/x-python",
   "name": "python",
   "nbconvert_exporter": "python",
   "pygments_lexer": "ipython3",
   "version": "3.8.10"
  },
  "toc": {
   "base_numbering": 1,
   "nav_menu": {},
   "number_sections": true,
   "sideBar": true,
   "skip_h1_title": false,
   "title_cell": "Table of Contents",
   "title_sidebar": "Contents",
   "toc_cell": false,
   "toc_position": {},
   "toc_section_display": true,
   "toc_window_display": true
  },
  "vscode": {
   "interpreter": {
    "hash": "a2c5e5aa19f4de4a283220657e963ec3047fdfe409710e5c2620cc3963e252a1"
   }
  }
 },
 "nbformat": 4,
 "nbformat_minor": 5
}
